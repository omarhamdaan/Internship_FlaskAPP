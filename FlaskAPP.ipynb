{
 "cells": [
  {
   "cell_type": "code",
   "execution_count": null,
   "id": "d953fe91-d65e-4511-ac53-26af6691a606",
   "metadata": {},
   "outputs": [],
   "source": []
  },
  {
   "cell_type": "code",
   "execution_count": null,
   "id": "134f792c-b4f1-458e-8a41-ed75282b3f80",
   "metadata": {},
   "outputs": [],
   "source": []
  },
  {
   "cell_type": "code",
   "execution_count": null,
   "id": "a5a9b6f4-d178-4a35-81a4-d553223aac88",
   "metadata": {},
   "outputs": [],
   "source": []
  },
  {
   "cell_type": "code",
   "execution_count": null,
   "id": "05b0190c-d0e5-4ee4-8b9f-baee2ef42402",
   "metadata": {},
   "outputs": [],
   "source": []
  },
  {
   "cell_type": "code",
   "execution_count": null,
   "id": "2483318f-1413-49cb-8706-1c811e4c9dfb",
   "metadata": {},
   "outputs": [],
   "source": []
  },
  {
   "cell_type": "code",
   "execution_count": null,
   "id": "fe355d13-87bc-4209-b072-6d384823cfbe",
   "metadata": {},
   "outputs": [
    {
     "name": "stdout",
     "output_type": "stream",
     "text": [
      "WARNING:tensorflow:From C:\\Users\\omarb\\PythonLab\\Lib\\site-packages\\keras\\src\\losses.py:2976: The name tf.losses.sparse_softmax_cross_entropy is deprecated. Please use tf.compat.v1.losses.sparse_softmax_cross_entropy instead.\n",
      "\n",
      "WARNING:tensorflow:From C:\\Users\\omarb\\PythonLab\\Lib\\site-packages\\keras\\src\\backend.py:1398: The name tf.executing_eagerly_outside_functions is deprecated. Please use tf.compat.v1.executing_eagerly_outside_functions instead.\n",
      "\n",
      "WARNING:tensorflow:From C:\\Users\\omarb\\PythonLab\\Lib\\site-packages\\keras\\src\\layers\\pooling\\max_pooling2d.py:161: The name tf.nn.max_pool is deprecated. Please use tf.nn.max_pool2d instead.\n",
      "\n",
      " * Serving Flask app '__main__'\n",
      " * Debug mode: off\n"
     ]
    },
    {
     "name": "stderr",
     "output_type": "stream",
     "text": [
      "WARNING: This is a development server. Do not use it in a production deployment. Use a production WSGI server instead.\n",
      " * Running on all addresses (0.0.0.0)\n",
      " * Running on http://127.0.0.1:8888\n",
      " * Running on http://192.168.1.45:8888\n",
      "Press CTRL+C to quit\n",
      "192.168.1.45 - - [27/Feb/2024 17:44:08] \"GET / HTTP/1.1\" 200 -\n"
     ]
    },
    {
     "name": "stdout",
     "output_type": "stream",
     "text": [
      "Post request received\n",
      "File received: (1629,)\n",
      "1/1 [==============================] - ETA: 0s"
     ]
    },
    {
     "name": "stderr",
     "output_type": "stream",
     "text": [
      "C:\\Users\\omarb\\AppData\\Local\\Temp\\ipykernel_15916\\898431886.py:24: DeprecationWarning: The binary mode of fromstring is deprecated, as it behaves surprisingly on unicode inputs. Use frombuffer instead\n",
      "  file_np = np.fromstring(file_str, np.uint8)\n"
     ]
    },
    {
     "name": "stdout",
     "output_type": "stream",
     "text": [
      "1/1 [==============================] - 0s 133ms/step\n"
     ]
    },
    {
     "name": "stderr",
     "output_type": "stream",
     "text": [
      "192.168.1.45 - - [27/Feb/2024 17:44:13] \"POST / HTTP/1.1\" 200 -\n"
     ]
    },
    {
     "name": "stdout",
     "output_type": "stream",
     "text": [
      "Prediction: 9\n"
     ]
    }
   ],
   "source": [
    "import os\n",
    "from flask import Flask, render_template, request, jsonify\n",
    "import numpy as np\n",
    "from tensorflow import keras\n",
    "import cv2\n",
    "import base64\n",
    "\n",
    "# App and model initializer\n",
    "app = Flask(__name__)\n",
    "title = 'Number Recognizer'\n",
    "\n",
    "# Loading prebuilt AI\n",
    "model = keras.models.load_model('mnist_classification.h5')\n",
    "\n",
    "# GET method\n",
    "@app.route('/')\n",
    "def home():\n",
    "    return render_template('home.html', title=title)\n",
    "# POST method\n",
    "@app.route('/', methods=['POST'])\n",
    "def result():\n",
    "    print('Post request received')\n",
    "    file_str = request.files['file'].read()\n",
    "    file_np = np.fromstring(file_str, np.uint8)\n",
    "    print(f'File received: {file_np.shape}')\n",
    "\n",
    "    # Decode the image\n",
    "    img = cv2.imdecode(file_np, cv2.IMREAD_GRAYSCALE)\n",
    "\n",
    "    # Resize the image to (28, 28)\n",
    "    img_resized = cv2.resize(img, (28, 28), interpolation=cv2.INTER_LINEAR)\n",
    "\n",
    "    # Normalize the pixel values to range [0, 1]\n",
    "    img_normalized = img_resized.astype('float32') / 255.0\n",
    "\n",
    "    # Expand dimensions to match the model input shape\n",
    "    img_processed = np.expand_dims(img_normalized, axis=0)\n",
    "    img_processed = np.expand_dims(img_processed, axis=-1)  # Add channel dimension\n",
    "\n",
    "    try:\n",
    "        prediction = np.argmax(model.predict(img_processed))\n",
    "        print(f\"Prediction: {prediction}\")\n",
    "        response = jsonify(response=str(prediction), status=200)\n",
    "    except Exception as e:\n",
    "        response = jsonify(response=str(e), status=400)\n",
    "\n",
    "    return response\n",
    "if __name__ == '__main__':\n",
    "    app.run(host='0.0.0.0', port=8888)  # Change the port number if needed"
   ]
  },
  {
   "cell_type": "code",
   "execution_count": null,
   "id": "0395f69f-146c-40fc-8458-d2d6e480f231",
   "metadata": {},
   "outputs": [],
   "source": []
  },
  {
   "cell_type": "code",
   "execution_count": null,
   "id": "5135181d-62f3-40fc-9514-bd8c7c825ddd",
   "metadata": {},
   "outputs": [],
   "source": []
  }
 ],
 "metadata": {
  "kernelspec": {
   "display_name": "Python 3 (ipykernel)",
   "language": "python",
   "name": "python3"
  },
  "language_info": {
   "codemirror_mode": {
    "name": "ipython",
    "version": 3
   },
   "file_extension": ".py",
   "mimetype": "text/x-python",
   "name": "python",
   "nbconvert_exporter": "python",
   "pygments_lexer": "ipython3",
   "version": "3.11.3"
  }
 },
 "nbformat": 4,
 "nbformat_minor": 5
}
