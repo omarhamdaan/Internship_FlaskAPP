{
 "cells": [
  {
   "cell_type": "code",
   "execution_count": null,
   "id": "d953fe91-d65e-4511-ac53-26af6691a606",
   "metadata": {},
   "outputs": [
    {
     "name": "stdout",
     "output_type": "stream",
     "text": [
      "WARNING:tensorflow:From C:\\Users\\omarb\\PythonLab\\Lib\\site-packages\\keras\\src\\losses.py:2976: The name tf.losses.sparse_softmax_cross_entropy is deprecated. Please use tf.compat.v1.losses.sparse_softmax_cross_entropy instead.\n",
      "\n",
      "WARNING:tensorflow:From C:\\Users\\omarb\\PythonLab\\Lib\\site-packages\\keras\\src\\backend.py:1398: The name tf.executing_eagerly_outside_functions is deprecated. Please use tf.compat.v1.executing_eagerly_outside_functions instead.\n",
      "\n",
      "WARNING:tensorflow:From C:\\Users\\omarb\\PythonLab\\Lib\\site-packages\\keras\\src\\layers\\pooling\\max_pooling2d.py:161: The name tf.nn.max_pool is deprecated. Please use tf.nn.max_pool2d instead.\n",
      "\n",
      " * Serving Flask app '__main__'\n",
      " * Debug mode: off\n"
     ]
    },
    {
     "name": "stderr",
     "output_type": "stream",
     "text": [
      "WARNING: This is a development server. Do not use it in a production deployment. Use a production WSGI server instead.\n",
      " * Running on http://127.0.0.1:5000\n",
      "Press CTRL+C to quit\n",
      "[2024-02-27 01:12:58,826] ERROR in app: Exception on / [GET]\n",
      "Traceback (most recent call last):\n",
      "  File \"C:\\Users\\omarb\\PythonLab\\Lib\\site-packages\\flask\\app.py\", line 1463, in wsgi_app\n",
      "    response = self.full_dispatch_request()\n",
      "               ^^^^^^^^^^^^^^^^^^^^^^^^^^^^\n",
      "  File \"C:\\Users\\omarb\\PythonLab\\Lib\\site-packages\\flask\\app.py\", line 872, in full_dispatch_request\n",
      "    rv = self.handle_user_exception(e)\n",
      "         ^^^^^^^^^^^^^^^^^^^^^^^^^^^^^\n",
      "  File \"C:\\Users\\omarb\\PythonLab\\Lib\\site-packages\\flask\\app.py\", line 870, in full_dispatch_request\n",
      "    rv = self.dispatch_request()\n",
      "         ^^^^^^^^^^^^^^^^^^^^^^^\n",
      "  File \"C:\\Users\\omarb\\PythonLab\\Lib\\site-packages\\flask\\app.py\", line 855, in dispatch_request\n",
      "    return self.ensure_sync(self.view_functions[rule.endpoint])(**view_args)  # type: ignore[no-any-return]\n",
      "           ^^^^^^^^^^^^^^^^^^^^^^^^^^^^^^^^^^^^^^^^^^^^^^^^^^^^^^^^^^^^^^^^^\n",
      "  File \"C:\\Users\\omarb\\AppData\\Local\\Temp\\ipykernel_13492\\267059881.py\", line 18, in home\n",
      "    return render_template('Number Recoginition System/templates/home.html', title=title)\n",
      "           ^^^^^^^^^^^^^^^^^^^^^^^^^^^^^^^^^^^^^^^^^^^^^^^^^^^^^^^^^^^^^^^^^^^^^^^^^^^^^^\n",
      "  File \"C:\\Users\\omarb\\PythonLab\\Lib\\site-packages\\flask\\templating.py\", line 149, in render_template\n",
      "    template = app.jinja_env.get_or_select_template(template_name_or_list)\n",
      "               ^^^^^^^^^^^^^^^^^^^^^^^^^^^^^^^^^^^^^^^^^^^^^^^^^^^^^^^^^^^\n",
      "  File \"C:\\Users\\omarb\\PythonLab\\Lib\\site-packages\\jinja2\\environment.py\", line 1081, in get_or_select_template\n",
      "    return self.get_template(template_name_or_list, parent, globals)\n",
      "           ^^^^^^^^^^^^^^^^^^^^^^^^^^^^^^^^^^^^^^^^^^^^^^^^^^^^^^^^^\n",
      "  File \"C:\\Users\\omarb\\PythonLab\\Lib\\site-packages\\jinja2\\environment.py\", line 1010, in get_template\n",
      "    return self._load_template(name, globals)\n",
      "           ^^^^^^^^^^^^^^^^^^^^^^^^^^^^^^^^^^\n",
      "  File \"C:\\Users\\omarb\\PythonLab\\Lib\\site-packages\\jinja2\\environment.py\", line 969, in _load_template\n",
      "    template = self.loader.load(self, name, self.make_globals(globals))\n",
      "               ^^^^^^^^^^^^^^^^^^^^^^^^^^^^^^^^^^^^^^^^^^^^^^^^^^^^^^^^\n",
      "  File \"C:\\Users\\omarb\\PythonLab\\Lib\\site-packages\\jinja2\\loaders.py\", line 126, in load\n",
      "    source, filename, uptodate = self.get_source(environment, name)\n",
      "                                 ^^^^^^^^^^^^^^^^^^^^^^^^^^^^^^^^^^\n",
      "  File \"C:\\Users\\omarb\\PythonLab\\Lib\\site-packages\\flask\\templating.py\", line 65, in get_source\n",
      "    return self._get_source_fast(environment, template)\n",
      "           ^^^^^^^^^^^^^^^^^^^^^^^^^^^^^^^^^^^^^^^^^^^^\n",
      "  File \"C:\\Users\\omarb\\PythonLab\\Lib\\site-packages\\flask\\templating.py\", line 99, in _get_source_fast\n",
      "    raise TemplateNotFound(template)\n",
      "jinja2.exceptions.TemplateNotFound: Number Recoginition System/templates/home.html\n",
      "127.0.0.1 - - [27/Feb/2024 01:12:58] \"GET / HTTP/1.1\" 500 -\n"
     ]
    }
   ],
   "source": [
    "import os\n",
    "from flask import Flask, render_template, request, jsonify\n",
    "import numpy as np\n",
    "from tensorflow import keras\n",
    "import cv2\n",
    "import base64\n",
    "\n",
    "# App and model initializer\n",
    "app = Flask(__name__)\n",
    "title = 'Number Recognizer'\n",
    "\n",
    "# Loading prebuilt AI\n",
    "model = keras.models.load_model('mnist_classification.h5')\n",
    "\n",
    "# GET method\n",
    "@app.route('/')\n",
    "def home():\n",
    "    return render_template('Number Recoginition System/templates/home.html', title=title)\n",
    "\n",
    "@app.route('/drawing', methods=['GET'])\n",
    "def drawing():\n",
    "    return render_template('drawing.html', title=title)\n",
    "\n",
    "\n",
    "# POST method\n",
    "@app.route('/', methods=['POST'])\n",
    "def result():\n",
    "    print('Post request recieved')\n",
    "    file_str = request.files['file'].read()\n",
    "    file_np = np.fromstring(file_str, np.uint8)\n",
    "    print(f'File recieved : {file_np.shape}')\n",
    "\n",
    "    file_np = cv2.resize(file_np,(28,28))\n",
    "    file_np = np.expand_dims(file_np, axis=0)\n",
    "\n",
    "    try:\n",
    "        prediction = np.argmax(model.predict(file_np))\n",
    "        print(f\"Prediction : {str(prediction)}\")\n",
    "        response = jsonify(response = str(prediction),status = 200)\n",
    "    except Exception as e:\n",
    "        response = jsonify(response = str(e),status = 400)\n",
    "\n",
    "    return response\n",
    "\n",
    "@app.route('/canvas', methods=['POST'])\n",
    "def canvas():\n",
    "    canvasdata = request.form['canvasimg']\n",
    "    encoded_data = request.form['canvasimg'].split(',')[1]\n",
    "\n",
    "    # Decode base64\n",
    "    nparr = np.fromstring(base64.b64decode(encoded_data), np.uint8)\n",
    "    img = cv2.imdecode(nparr, cv2.IMREAD_COLOR)\n",
    "\n",
    "    # Convert 3 channel to 1 channel\n",
    "    gray_image = cv2.cvtColor(img, cv2.COLOR_BGR2GRAY)\n",
    "    cv2.imwrite('280x280.jpg', gray_image)\n",
    "\n",
    "    # Resize to (28, 28)\n",
    "    gray_image = cv2.resize(gray_image, (28, 28), interpolation=cv2.INTER_LINEAR)\n",
    "    cv2.imwrite('28x28.jpg', gray_image)\n",
    "\n",
    "    # Expand to (1, 28, 28)\n",
    "    img = np.expand_dims(gray_image, axis=0)\n",
    "\n",
    "    try:\n",
    "        prediction = np.argmax(model.predict(img))\n",
    "        print(f\"Prediction Result : {str(prediction)}\")\n",
    "        return render_template('Number Recoginition System/templates/drawing.html', title=title, response=str(prediction), canvasdata=canvasdata, success=True)\n",
    "    except Exception as e:\n",
    "        return render_template('Number Recoginition System/templates/drawing.html', title=title, response=str(e), canvasdata=canvasdata)\n",
    "if __name__ == '__main__':\n",
    "    app.run(port=5000,debug = False)"
   ]
  },
  {
   "cell_type": "code",
   "execution_count": null,
   "id": "134f792c-b4f1-458e-8a41-ed75282b3f80",
   "metadata": {},
   "outputs": [],
   "source": []
  },
  {
   "cell_type": "code",
   "execution_count": null,
   "id": "a5a9b6f4-d178-4a35-81a4-d553223aac88",
   "metadata": {},
   "outputs": [],
   "source": []
  },
  {
   "cell_type": "code",
   "execution_count": null,
   "id": "05b0190c-d0e5-4ee4-8b9f-baee2ef42402",
   "metadata": {},
   "outputs": [],
   "source": []
  },
  {
   "cell_type": "code",
   "execution_count": 1,
   "id": "2483318f-1413-49cb-8706-1c811e4c9dfb",
   "metadata": {},
   "outputs": [
    {
     "name": "stdout",
     "output_type": "stream",
     "text": [
      "4\n"
     ]
    }
   ],
   "source": [
    "print(4)"
   ]
  },
  {
   "cell_type": "code",
   "execution_count": null,
   "id": "fe355d13-87bc-4209-b072-6d384823cfbe",
   "metadata": {},
   "outputs": [],
   "source": []
  },
  {
   "cell_type": "code",
   "execution_count": null,
   "id": "0395f69f-146c-40fc-8458-d2d6e480f231",
   "metadata": {},
   "outputs": [],
   "source": []
  }
 ],
 "metadata": {
  "kernelspec": {
   "display_name": "Python 3 (ipykernel)",
   "language": "python",
   "name": "python3"
  },
  "language_info": {
   "codemirror_mode": {
    "name": "ipython",
    "version": 3
   },
   "file_extension": ".py",
   "mimetype": "text/x-python",
   "name": "python",
   "nbconvert_exporter": "python",
   "pygments_lexer": "ipython3",
   "version": "3.11.3"
  }
 },
 "nbformat": 4,
 "nbformat_minor": 5
}
